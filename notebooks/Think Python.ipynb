{
 "cells": [
  {
   "cell_type": "markdown",
   "metadata": {},
   "source": [
    "# Think Python \n",
    "\n",
    "Python, is an object-oriented programming language. For quick tests and results, we can leave our lines of code like the [previous notebook](./Generating%20a%20sine%20wave.ipynb). But, if we want to make our synthesizer a python module, we actually need to think python. "
   ]
  },
  {
   "cell_type": "markdown",
   "metadata": {},
   "source": [
    "## Writing the 'synth' class\n",
    "\n",
    "Now, we are just going to make our synth a python class, and we're going to add an `__init__()` method to initialize our synth with characteristics we want. In this case, I add _samples per second_, _frequency_ and _duration_. "
   ]
  },
  {
   "cell_type": "code",
   "execution_count": 1,
   "metadata": {},
   "outputs": [],
   "source": [
    "import numpy as np \n",
    "\n",
    "class Synth:\n",
    "    def __init__(self, frequency, duration, samples_per_second):\n",
    "        self.frequency = frequency\n",
    "        self.duration  = duration \n",
    "        self.samples_per_second = samples_per_second \n",
    "        \n"
   ]
  },
  {
   "cell_type": "markdown",
   "metadata": {},
   "source": [
    "## Generating a wave\n",
    "\n",
    "Now, we need to add a simple `sine_wave_generator` method to our class!"
   ]
  },
  {
   "cell_type": "code",
   "execution_count": 8,
   "metadata": {},
   "outputs": [],
   "source": [
    "class Synth:\n",
    "    def __init__(self, frequency, duration, samples_per_second):\n",
    "        self.frequency = frequency\n",
    "        self.duration  = duration \n",
    "        self.samples_per_second = samples_per_second\n",
    "    \n",
    "    def sine_wave_generator(self): \n",
    "        samples_number = np.arange(self.samples_per_second * self.duration)\n",
    "        waveform = np.sin(2 * np.pi * self.frequency * samples_number / self.samples_per_second)\n",
    "        waveform *= 0.5 # to modify the amplitude, it's static!\n",
    "        \n",
    "        return waveform \n"
   ]
  },
  {
   "cell_type": "markdown",
   "metadata": {},
   "source": [
    "## Testing our code \n",
    "\n",
    "Now, it's time to test our code. We need to make a Synth object first with our desired parameters. For example, I want to model a note `A` at 220Hz. So, my code will be like : "
   ]
  },
  {
   "cell_type": "code",
   "execution_count": 9,
   "metadata": {},
   "outputs": [],
   "source": [
    "s = Synth(220, 5.0, 44100)"
   ]
  },
  {
   "cell_type": "markdown",
   "metadata": {},
   "source": [
    "Let's test this and use `scipy` to make our wave file!"
   ]
  },
  {
   "cell_type": "code",
   "execution_count": 13,
   "metadata": {},
   "outputs": [],
   "source": [
    "from scipy.io.wavfile import write \n",
    "\n",
    "t = 5.0 \n",
    "sig = s.sine_wave_generator() \n",
    "\n",
    "write('test.wav', s.samples_per_second, sig)\n"
   ]
  },
  {
   "cell_type": "markdown",
   "metadata": {},
   "source": [
    "Now, we have a synth class and we can do whatever we want in the class. For example, we can write `write_wav_file` method to automate that file generation process. But it's enoug for now. We should learn how to code other signals, then we come back and write everything we learned in a python-ish way. "
   ]
  }
 ],
 "metadata": {
  "kernelspec": {
   "display_name": "Python 3",
   "language": "python",
   "name": "python3"
  },
  "language_info": {
   "codemirror_mode": {
    "name": "ipython",
    "version": 3
   },
   "file_extension": ".py",
   "mimetype": "text/x-python",
   "name": "python",
   "nbconvert_exporter": "python",
   "pygments_lexer": "ipython3",
   "version": "3.6.5"
  }
 },
 "nbformat": 4,
 "nbformat_minor": 2
}
