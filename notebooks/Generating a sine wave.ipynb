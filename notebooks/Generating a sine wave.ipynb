{
 "cells": [
  {
   "cell_type": "markdown",
   "metadata": {},
   "source": [
    "# Generating a sine wave \n",
    "\n",
    "In this notebook, we are going to make a sine wave using `numpy`. But first, let's know what we need to create our own sine wave. \n",
    "\n",
    "## Sine wave properties \n",
    "\n",
    "For making our own sine wave, we need to define these : \n",
    "\n",
    "* Frequency : Frequency actually determines our pitch. For example a 440Hz sine wave is a note A. \n",
    "* Duration : How long we want our wave to be played. \n",
    "* Samples per second : How many samples of a single period we want to be in our synthesized wave. \n"
   ]
  },
  {
   "cell_type": "code",
   "execution_count": 1,
   "metadata": {},
   "outputs": [],
   "source": [
    "import numpy as np\n",
    "from scipy.io.wavfile import write "
   ]
  },
  {
   "cell_type": "markdown",
   "metadata": {},
   "source": [
    "We use numpy and it's functions and methods to generate our own sine wave. We use scipy to write what we want in a `.wav` file. The wave file can be played using a media player or digital audio workstation. "
   ]
  },
  {
   "cell_type": "markdown",
   "metadata": {},
   "source": [
    "## Defining parameters"
   ]
  },
  {
   "cell_type": "code",
   "execution_count": 2,
   "metadata": {},
   "outputs": [],
   "source": [
    "freq_hz = 440 # It tells the program we want a 440Hz wave\n",
    "duration_s = 5.0 #Our wave will be played for five seconds \n",
    "samples_per_second = 44100 # you can change this to 48000 for more precision. It's number of samples we want to generate for a single period of the signal"
   ]
  },
  {
   "cell_type": "markdown",
   "metadata": {},
   "source": [
    "Now, let's realize how we can make a sine wave using a very simple math equation. \n",
    "The psuedo code for that is : \n",
    "`sin(2 * pi * t * f / samples_per_second)` \n",
    "And `t` here is actually our duration. But, we really can modify this to be understood easier in the code. Let's just make our wave form! "
   ]
  },
  {
   "cell_type": "code",
   "execution_count": 6,
   "metadata": {},
   "outputs": [],
   "source": [
    "sample_number = np.arange(samples_per_second * duration_s) #That's the little hack. \n",
    "waveform = np.sin(2 * np.pi * freq_hz * sample_number / samples_per_second)"
   ]
  },
  {
   "cell_type": "markdown",
   "metadata": {},
   "source": [
    "Now we need to make our wave form quiet. It means we lower the amplitude and the result won't be annoying to our ears. "
   ]
  },
  {
   "cell_type": "code",
   "execution_count": 4,
   "metadata": {},
   "outputs": [],
   "source": [
    "waveform = waveform * 0.5"
   ]
  },
  {
   "cell_type": "markdown",
   "metadata": {},
   "source": [
    "Now we can write our wave to a `.wav` file and see how it sounds. You also can use tools like [Audacity](http://audacityteam.org) to monitor the wave form. "
   ]
  },
  {
   "cell_type": "code",
   "execution_count": 7,
   "metadata": {},
   "outputs": [],
   "source": [
    "write('sine_wave_example.wav', samples_per_second, waveform)"
   ]
  },
  {
   "cell_type": "markdown",
   "metadata": {},
   "source": [
    "## The result \n",
    "\n",
    "The result is a sine wave and if you zoom on the `wav` file in Audacity, you'll get something like this : \n",
    "\n",
    "![](./sineWave.png)"
   ]
  }
 ],
 "metadata": {
  "kernelspec": {
   "display_name": "Python 3",
   "language": "python",
   "name": "python3"
  },
  "language_info": {
   "codemirror_mode": {
    "name": "ipython",
    "version": 3
   },
   "file_extension": ".py",
   "mimetype": "text/x-python",
   "name": "python",
   "nbconvert_exporter": "python",
   "pygments_lexer": "ipython3",
   "version": "3.6.5"
  }
 },
 "nbformat": 4,
 "nbformat_minor": 2
}
